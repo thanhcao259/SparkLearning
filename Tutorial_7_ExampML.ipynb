{
 "cells": [
  {
   "cell_type": "markdown",
   "metadata": {},
   "source": [
    "TO PRE-PROCESSING DATA\n",
    "1. Min Max Scaler\n",
    "2. Standard Scaler"
   ]
  },
  {
   "cell_type": "code",
   "execution_count": 1,
   "metadata": {},
   "outputs": [],
   "source": [
    "from pyspark.sql import SparkSession"
   ]
  },
  {
   "cell_type": "code",
   "execution_count": 2,
   "metadata": {},
   "outputs": [],
   "source": [
    "from pyspark.ml.feature import VectorAssembler, MinMaxScaler, StandardScaler"
   ]
  },
  {
   "cell_type": "code",
   "execution_count": 3,
   "metadata": {},
   "outputs": [],
   "source": [
    "spark = SparkSession.builder.appName('Tutor_6_Preprocessing').getOrCreate()"
   ]
  },
  {
   "cell_type": "code",
   "execution_count": 14,
   "metadata": {},
   "outputs": [],
   "source": [
    "training = spark.read.csv('data/test1.csv',header=True,inferSchema=True)"
   ]
  },
  {
   "cell_type": "markdown",
   "metadata": {},
   "source": [
    "VectorAssembler() combine multiple feature columns into \n",
    "a single vector column that can be passed to ML algo for training.\n"
   ]
  },
  {
   "cell_type": "code",
   "execution_count": 15,
   "metadata": {},
   "outputs": [],
   "source": [
    "inpCols = ['Age','Experience']\n",
    "vct_assemb = VectorAssembler(inputCols=inpCols, outputCol='independent_feature')"
   ]
  },
  {
   "cell_type": "code",
   "execution_count": 19,
   "metadata": {},
   "outputs": [
    {
     "name": "stdout",
     "output_type": "stream",
     "text": [
      "+---------+---+----------+------+-------------------+\n",
      "|     Name|Age|Experience|Salary|independent_feature|\n",
      "+---------+---+----------+------+-------------------+\n",
      "|    Krish| 31|        10| 30000|        [31.0,10.0]|\n",
      "|Sudhanshu| 30|         8| 25000|         [30.0,8.0]|\n",
      "|    Sunny| 29|         4| 20000|         [29.0,4.0]|\n",
      "|     Paul| 24|         3| 20000|         [24.0,3.0]|\n",
      "|   Harsha| 21|         1| 15000|         [21.0,1.0]|\n",
      "|  Shubham| 23|         2| 18000|         [23.0,2.0]|\n",
      "+---------+---+----------+------+-------------------+\n",
      "\n"
     ]
    }
   ],
   "source": [
    "assemb_df = vct_assemb.transform(training)\n",
    "assemb_df.show()"
   ]
  },
  {
   "cell_type": "code",
   "execution_count": 20,
   "metadata": {},
   "outputs": [
    {
     "name": "stdout",
     "output_type": "stream",
     "text": [
      "+-------------------+------+\n",
      "|independent_feature|Salary|\n",
      "+-------------------+------+\n",
      "|        [31.0,10.0]| 30000|\n",
      "|         [30.0,8.0]| 25000|\n",
      "|         [29.0,4.0]| 20000|\n",
      "|         [24.0,3.0]| 20000|\n",
      "|         [21.0,1.0]| 15000|\n",
      "|         [23.0,2.0]| 18000|\n",
      "+-------------------+------+\n",
      "\n"
     ]
    }
   ],
   "source": [
    "final_data = assemb_df.select('independent_feature', 'Salary')\n",
    "final_data.show()"
   ]
  },
  {
   "cell_type": "markdown",
   "metadata": {},
   "source": [
    "Linear Regression (Hồi quy tuyến tính)"
   ]
  },
  {
   "cell_type": "code",
   "execution_count": 18,
   "metadata": {},
   "outputs": [],
   "source": [
    "from pyspark.ml.regression import LinearRegression"
   ]
  },
  {
   "cell_type": "code",
   "execution_count": 37,
   "metadata": {},
   "outputs": [],
   "source": [
    "# Training test split\n",
    "# Split Data into train_data (75%) and test_data (25%)\n",
    "# Fit() to takes train_data and calculate the coefficient\n",
    "\n",
    "train_data, test_data = final_data.randomSplit([0.75,0.25])\n",
    "regressor = LinearRegression(featuresCol='independent_feature', labelCol='Salary')\n",
    "regressor = regressor.fit(train_data)"
   ]
  },
  {
   "cell_type": "markdown",
   "metadata": {},
   "source": [
    "The regression format: y= w1x1 + w2x2 +...+ wn.xn + b\n",
    "- y is the dependent var\n",
    "- x is the independent feature\n",
    "- w is the coefficient of each feature\n",
    "- b is the intercept "
   ]
  },
  {
   "cell_type": "code",
   "execution_count": 38,
   "metadata": {},
   "outputs": [
    {
     "data": {
      "text/plain": [
       "DenseVector([-323.2867, 1696.8066])"
      ]
     },
     "execution_count": 38,
     "metadata": {},
     "output_type": "execute_result"
    }
   ],
   "source": [
    "# coefficient: là trọng số đc gán cho mỗi giá trị trong 'indepen_feature'\n",
    "# Từ đó, dự doán các giá trị trong dependent var ('Salary')\n",
    "regressor.coefficients"
   ]
  },
  {
   "cell_type": "code",
   "execution_count": 39,
   "metadata": {},
   "outputs": [
    {
     "data": {
      "text/plain": [
       "22295.299605312008"
      ]
     },
     "execution_count": 39,
     "metadata": {},
     "output_type": "execute_result"
    }
   ],
   "source": [
    "# intercept: is the predicted val of dependent var ('Salary')\n",
    "# when all the indenpendent var ('indepen_feature') = 0\n",
    "regressor.intercept"
   ]
  },
  {
   "cell_type": "code",
   "execution_count": 51,
   "metadata": {},
   "outputs": [],
   "source": [
    "### Prediction\n",
    "pred_results = regressor.evaluate(test_data)"
   ]
  },
  {
   "cell_type": "code",
   "execution_count": 52,
   "metadata": {},
   "outputs": [
    {
     "name": "stdout",
     "output_type": "stream",
     "text": [
      "+-------------------+------+------------------+\n",
      "|independent_feature|Salary|        prediction|\n",
      "+-------------------+------+------------------+\n",
      "|         [21.0,1.0]| 15000|17203.085755292603|\n",
      "+-------------------+------+------------------+\n",
      "\n"
     ]
    }
   ],
   "source": [
    "pred_results.predictions.show()"
   ]
  }
 ],
 "metadata": {
  "kernelspec": {
   "display_name": ".venv",
   "language": "python",
   "name": "python3"
  },
  "language_info": {
   "codemirror_mode": {
    "name": "ipython",
    "version": 3
   },
   "file_extension": ".py",
   "mimetype": "text/x-python",
   "name": "python",
   "nbconvert_exporter": "python",
   "pygments_lexer": "ipython3",
   "version": "3.11.4"
  }
 },
 "nbformat": 4,
 "nbformat_minor": 2
}
