{
 "cells": [
  {
   "cell_type": "code",
   "execution_count": 1,
   "metadata": {},
   "outputs": [],
   "source": [
    "from pyspark.sql import SparkSession\n",
    "import pyspark.sql.functions as fnc\n",
    "from pyspark.ml.feature import VectorAssembler, MinMaxScaler, StandardScaler"
   ]
  },
  {
   "cell_type": "code",
   "execution_count": 2,
   "metadata": {},
   "outputs": [],
   "source": [
    "spark = SparkSession.builder.appName('Tutor_6_Preprocessing').getOrCreate()"
   ]
  },
  {
   "cell_type": "code",
   "execution_count": 3,
   "metadata": {},
   "outputs": [
    {
     "name": "stdout",
     "output_type": "stream",
     "text": [
      "+----------+----+------+------+---+------+----+\n",
      "|total_bill| tip|   sex|smoker|day|  time|size|\n",
      "+----------+----+------+------+---+------+----+\n",
      "|     16.99|1.01|Female|    No|Sun|Dinner|   2|\n",
      "|     10.34|1.66|  Male|    No|Sun|Dinner|   3|\n",
      "|     21.01| 3.5|  Male|   Yes|Sun|Dinner|   3|\n",
      "|     23.68|3.31|  Male|    No|Sun|Dinner|   2|\n",
      "|     24.59|3.61|Female|    No|Sun|Dinner|   4|\n",
      "+----------+----+------+------+---+------+----+\n",
      "only showing top 5 rows\n",
      "\n"
     ]
    }
   ],
   "source": [
    "tip_df = spark.read.csv('data/tips.csv',header=True, inferSchema=True)\n",
    "tip_df.show(5)"
   ]
  },
  {
   "cell_type": "markdown",
   "metadata": {},
   "source": [
    "1. Explore data Structure & check Missing Values"
   ]
  },
  {
   "cell_type": "code",
   "execution_count": 12,
   "metadata": {},
   "outputs": [
    {
     "name": "stdout",
     "output_type": "stream",
     "text": [
      "root\n",
      " |-- total_bill: double (nullable = true)\n",
      " |-- tip: double (nullable = true)\n",
      " |-- sex: string (nullable = true)\n",
      " |-- smoker: string (nullable = true)\n",
      " |-- day: string (nullable = true)\n",
      " |-- time: string (nullable = true)\n",
      " |-- size: integer (nullable = true)\n",
      "\n"
     ]
    }
   ],
   "source": [
    "tip_df.printSchema()"
   ]
  },
  {
   "cell_type": "code",
   "execution_count": 4,
   "metadata": {},
   "outputs": [
    {
     "data": {
      "text/plain": [
       "['total_bill', 'tip', 'sex', 'smoker', 'day', 'time', 'size']"
      ]
     },
     "execution_count": 4,
     "metadata": {},
     "output_type": "execute_result"
    }
   ],
   "source": [
    "list_cols = tip_df.columns\n",
    "list_cols"
   ]
  },
  {
   "cell_type": "code",
   "execution_count": 5,
   "metadata": {},
   "outputs": [],
   "source": [
    "\n",
    "list_filter_null = [\"{} IS NULL\".format(col) for col in list_cols]"
   ]
  },
  {
   "cell_type": "code",
   "execution_count": 6,
   "metadata": {},
   "outputs": [
    {
     "name": "stdout",
     "output_type": "stream",
     "text": [
      "total_bill has 0 null values\n",
      "tip has 0 null values\n",
      "sex has 0 null values\n",
      "smoker has 0 null values\n",
      "day has 0 null values\n",
      "time has 0 null values\n",
      "size has 0 null values\n"
     ]
    }
   ],
   "source": [
    "counter_null =0\n",
    "for col in list_filter_null:\n",
    "    col_name = col.split(\" \")[0]\n",
    "    counter = tip_df.filter(col).count()\n",
    "    counter_null+= counter\n",
    "    print(f\"{col_name} has {counter} null values\")"
   ]
  },
  {
   "cell_type": "markdown",
   "metadata": {},
   "source": [
    "2. Pre-processing by:\n",
    "- MinMaxScaler\n",
    "- StandardScaler"
   ]
  },
  {
   "cell_type": "markdown",
   "metadata": {},
   "source": [
    "Q1: Describe the difference from Total_bill & tip"
   ]
  },
  {
   "cell_type": "markdown",
   "metadata": {},
   "source": [
    "Step 1: Select specified columns and assemble them\n",
    "Step 2: Use transform() to create new DataFrame with transformed data "
   ]
  },
  {
   "cell_type": "code",
   "execution_count": 7,
   "metadata": {},
   "outputs": [],
   "source": [
    "bill_tip = VectorAssembler(inputCols=['total_bill','tip'], outputCol='bill_tip_feature')"
   ]
  },
  {
   "cell_type": "code",
   "execution_count": 8,
   "metadata": {},
   "outputs": [],
   "source": [
    "tip_transformed = bill_tip.transform(tip_df)"
   ]
  },
  {
   "cell_type": "code",
   "execution_count": 9,
   "metadata": {},
   "outputs": [
    {
     "name": "stdout",
     "output_type": "stream",
     "text": [
      "+----------+----+------+------+---+------+----+----------------+\n",
      "|total_bill| tip|   sex|smoker|day|  time|size|bill_tip_feature|\n",
      "+----------+----+------+------+---+------+----+----------------+\n",
      "|     16.99|1.01|Female|    No|Sun|Dinner|   2|    [16.99,1.01]|\n",
      "|     10.34|1.66|  Male|    No|Sun|Dinner|   3|    [10.34,1.66]|\n",
      "|     21.01| 3.5|  Male|   Yes|Sun|Dinner|   3|     [21.01,3.5]|\n",
      "|     23.68|3.31|  Male|    No|Sun|Dinner|   2|    [23.68,3.31]|\n",
      "|     24.59|3.61|Female|    No|Sun|Dinner|   4|    [24.59,3.61]|\n",
      "+----------+----+------+------+---+------+----+----------------+\n",
      "only showing top 5 rows\n",
      "\n"
     ]
    }
   ],
   "source": [
    "tip_transformed.show(5)"
   ]
  },
  {
   "cell_type": "markdown",
   "metadata": {},
   "source": [
    "Step 3. Use pyspark.ml.feature.MinMaxScaler\n",
    "- Initial a instance of MinMaxScaler()\n",
    "- Use fit() to calculate min/ max value in 'bill_tip_feature' from 'tip_transformed'\n",
    "- Apply transform() calculate min-max formula with each value on 'bill_tip_feature'\n",
    "- Store transfered value in 'min_max_scaler' column\n",
    "\n",
    "Min-Max formula:\n",
    "x scaled = (x - min)/(max - min)"
   ]
  },
  {
   "cell_type": "code",
   "execution_count": 10,
   "metadata": {},
   "outputs": [],
   "source": [
    "minMaxScal = MinMaxScaler(inputCol='bill_tip_feature', outputCol='min_max_scaled')"
   ]
  },
  {
   "cell_type": "code",
   "execution_count": 11,
   "metadata": {},
   "outputs": [],
   "source": [
    "output = minMaxScal.fit(tip_transformed).transform(tip_transformed)"
   ]
  },
  {
   "cell_type": "code",
   "execution_count": 37,
   "metadata": {},
   "outputs": [
    {
     "name": "stdout",
     "output_type": "stream",
     "text": [
      "root\n",
      " |-- total_bill: double (nullable = true)\n",
      " |-- tip: double (nullable = true)\n",
      " |-- sex: string (nullable = true)\n",
      " |-- smoker: string (nullable = true)\n",
      " |-- day: string (nullable = true)\n",
      " |-- time: string (nullable = true)\n",
      " |-- size: integer (nullable = true)\n",
      " |-- bill_tip_feature: vector (nullable = true)\n",
      "\n"
     ]
    }
   ],
   "source": [
    "tip_transformed.printSchema()"
   ]
  },
  {
   "cell_type": "code",
   "execution_count": 56,
   "metadata": {},
   "outputs": [],
   "source": [
    "from pyspark.sql.types import ArrayType, DoubleType\n",
    "\n",
    "def round_array(arr):\n",
    "    return [round(float(x), 4) for x in arr]\n",
    "\n",
    "# Create a new user-defined function\n",
    "round_udf = fnc.udf(round_array, ArrayType(DoubleType()))"
   ]
  },
  {
   "cell_type": "code",
   "execution_count": 61,
   "metadata": {},
   "outputs": [],
   "source": [
    "output_rounded = output.select('bill_tip_feature',\n",
    "    round_udf('min_max_scaled').alias('rounded_scaler'))"
   ]
  },
  {
   "cell_type": "code",
   "execution_count": 62,
   "metadata": {},
   "outputs": [
    {
     "name": "stdout",
     "output_type": "stream",
     "text": [
      "+----------------+----------------+\n",
      "|bill_tip_feature|rounded_scaler  |\n",
      "+----------------+----------------+\n",
      "|[16.99,1.01]    |[0.2916, 0.0011]|\n",
      "|[10.34,1.66]    |[0.1523, 0.0733]|\n",
      "|[21.01,3.5]     |[0.3758, 0.2778]|\n",
      "|[23.68,3.31]    |[0.4317, 0.2567]|\n",
      "|[24.59,3.61]    |[0.4508, 0.29]  |\n",
      "+----------------+----------------+\n",
      "only showing top 5 rows\n",
      "\n"
     ]
    }
   ],
   "source": [
    "output_rounded.show(n=5, truncate=False)"
   ]
  }
 ],
 "metadata": {
  "kernelspec": {
   "display_name": ".venv",
   "language": "python",
   "name": "python3"
  },
  "language_info": {
   "codemirror_mode": {
    "name": "ipython",
    "version": 3
   },
   "file_extension": ".py",
   "mimetype": "text/x-python",
   "name": "python",
   "nbconvert_exporter": "python",
   "pygments_lexer": "ipython3",
   "version": "3.11.4"
  }
 },
 "nbformat": 4,
 "nbformat_minor": 2
}
