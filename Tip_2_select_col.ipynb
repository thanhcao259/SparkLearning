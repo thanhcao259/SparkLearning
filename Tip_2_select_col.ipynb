{
 "cells": [
  {
   "cell_type": "markdown",
   "metadata": {},
   "source": [
    "There are many ways to select or access value of columns on Data frames:\n",
    "1. df.select('col_name1', 'col_name2')\n",
    "2. df"
   ]
  },
  {
   "cell_type": "code",
   "execution_count": 1,
   "metadata": {},
   "outputs": [],
   "source": [
    "from pyspark.sql import SparkSession\n",
    "from pyspark.sql.functions import *"
   ]
  },
  {
   "cell_type": "code",
   "execution_count": 2,
   "metadata": {},
   "outputs": [],
   "source": [
    "spark = SparkSession.builder.appName('Tip 2 select column').getOrCreate()"
   ]
  },
  {
   "cell_type": "code",
   "execution_count": 3,
   "metadata": {},
   "outputs": [],
   "source": [
    "schema_df1 = \"order_id long, order_date string, cust_id long, status string\""
   ]
  },
  {
   "cell_type": "code",
   "execution_count": 4,
   "metadata": {},
   "outputs": [],
   "source": [
    "df1 = spark.read.format('csv').schema(schema_df1)\\\n",
    "        .load('data/orders.csv')"
   ]
  },
  {
   "cell_type": "code",
   "execution_count": 5,
   "metadata": {},
   "outputs": [
    {
     "name": "stdout",
     "output_type": "stream",
     "text": [
      "+--------+----------+-------+---------------+\n",
      "|order_id|order_date|cust_id|         status|\n",
      "+--------+----------+-------+---------------+\n",
      "|       1|2013-07-25|  11599|         CLOSED|\n",
      "|       2|2013-07-25|    256|PENDING_PAYMENT|\n",
      "|       3|2013-07-25|  12111|       COMPLETE|\n",
      "+--------+----------+-------+---------------+\n",
      "only showing top 3 rows\n",
      "\n"
     ]
    }
   ],
   "source": [
    "df1.show(3)"
   ]
  },
  {
   "cell_type": "markdown",
   "metadata": {},
   "source": [
    "1. df.select(\"col1, col2,...\")\n",
    "- Apply only show some columns or whole columns.\n",
    "- Create a new data frame based on existed data frame\n",
    "- Change the order of column name (FIFO)"
   ]
  },
  {
   "cell_type": "code",
   "execution_count": 6,
   "metadata": {},
   "outputs": [],
   "source": [
    "output1 = df1.select(\"cust_id\",\"order_id\",\"status\")"
   ]
  },
  {
   "cell_type": "code",
   "execution_count": 7,
   "metadata": {},
   "outputs": [
    {
     "name": "stdout",
     "output_type": "stream",
     "text": [
      "+-------+--------+---------------+\n",
      "|cust_id|order_id|         status|\n",
      "+-------+--------+---------------+\n",
      "|  11599|       1|         CLOSED|\n",
      "|    256|       2|PENDING_PAYMENT|\n",
      "|  12111|       3|       COMPLETE|\n",
      "+-------+--------+---------------+\n",
      "only showing top 3 rows\n",
      "\n"
     ]
    }
   ],
   "source": [
    "output1.show(3)"
   ]
  },
  {
   "cell_type": "markdown",
   "metadata": {},
   "source": [
    "2. df.select(df1.col1, df2.col1, df1.col3,...)\n",
    "- Change the order of column names\n",
    "- Apply in case of joining other dataframes/tables\n",
    "- Can be able to create new columns based on existed columns\n"
   ]
  },
  {
   "cell_type": "code",
   "execution_count": 20,
   "metadata": {},
   "outputs": [],
   "source": [
    "output2 = df1.select(df1.order_id, (df1.status), (df1.cust_id+1).alias('customer'))"
   ]
  },
  {
   "cell_type": "code",
   "execution_count": 21,
   "metadata": {},
   "outputs": [
    {
     "name": "stdout",
     "output_type": "stream",
     "text": [
      "+--------+--------------+--------+\n",
      "|order_id|(status + _st)|customer|\n",
      "+--------+--------------+--------+\n",
      "|       1|          NULL|   11600|\n",
      "|       2|          NULL|     257|\n",
      "|       3|          NULL|   12112|\n",
      "+--------+--------------+--------+\n",
      "only showing top 3 rows\n",
      "\n"
     ]
    }
   ],
   "source": [
    "output2.show(3)"
   ]
  },
  {
   "cell_type": "markdown",
   "metadata": {},
   "source": [
    "3. df.select(df1['col1'], df1['col2'],...)\n",
    "- Same as the way 2"
   ]
  },
  {
   "cell_type": "code",
   "execution_count": 22,
   "metadata": {},
   "outputs": [],
   "source": [
    "output3 = df1.select(df1['cust_id'], df1['status'],\n",
    "                     (df1['cust_id']+1).alias('new_customer'))"
   ]
  },
  {
   "cell_type": "code",
   "execution_count": 23,
   "metadata": {},
   "outputs": [
    {
     "name": "stdout",
     "output_type": "stream",
     "text": [
      "+-------+---------------+------------+\n",
      "|cust_id|         status|new_customer|\n",
      "+-------+---------------+------------+\n",
      "|  11599|         CLOSED|       11600|\n",
      "|    256|PENDING_PAYMENT|         257|\n",
      "|  12111|       COMPLETE|       12112|\n",
      "+-------+---------------+------------+\n",
      "only showing top 3 rows\n",
      "\n"
     ]
    }
   ],
   "source": [
    "output3.show(3)"
   ]
  },
  {
   "cell_type": "markdown",
   "metadata": {},
   "source": [
    "4. Using pyspark.sql.funtions.col\n",
    "- col(), where(), sum(), ....\n",
    "- Provide a lot of default attribute after col() such as like, between, isNull, contain..."
   ]
  },
  {
   "cell_type": "code",
   "execution_count": 35,
   "metadata": {},
   "outputs": [
    {
     "name": "stdout",
     "output_type": "stream",
     "text": [
      "+-------+----------+-----+--------+\n",
      "|cust_id|order_date|order|  status|\n",
      "+-------+----------+-----+--------+\n",
      "|    656|2013-07-25|   28|COMPLETE|\n",
      "|   1148|2013-07-25|   63|COMPLETE|\n",
      "|   1265|2013-07-25|   83|COMPLETE|\n",
      "|    610|2013-07-26|  126|COMPLETE|\n",
      "|   1104|2013-07-26|  186|COMPLETE|\n",
      "|   1137|2013-07-26|  258|COMPLETE|\n",
      "|    815|2013-07-26|  271|COMPLETE|\n",
      "+-------+----------+-----+--------+\n",
      "only showing top 7 rows\n",
      "\n"
     ]
    }
   ],
   "source": [
    "output4 = df1.select(col(\"cust_id\"), col('order_date'), col('order_id').alias(\"order\"), col('status')) \\\n",
    "    .where(col('status').like('COMPLETE') & col('cust_id').between(600, 1300))\n",
    "output4.show(7)"
   ]
  },
  {
   "cell_type": "markdown",
   "metadata": {},
   "source": [
    "5. Using expr() or selectExpr()\n",
    "- select(col(), expr(\"expr1\").alias,...)\n",
    "- selectExpr(\"col1\", \"express1 as name1\", \"express2\",...)"
   ]
  },
  {
   "cell_type": "code",
   "execution_count": 41,
   "metadata": {},
   "outputs": [],
   "source": [
    "output6 = df1.select(col('status'), expr(\"order_id * 2\").alias('new_order'), expr(\"cust_id / 10\").alias('divide_cust'))"
   ]
  },
  {
   "cell_type": "code",
   "execution_count": 42,
   "metadata": {},
   "outputs": [
    {
     "name": "stdout",
     "output_type": "stream",
     "text": [
      "+---------------+---------+-----------+\n",
      "|         status|new_order|divide_cust|\n",
      "+---------------+---------+-----------+\n",
      "|         CLOSED|        2|     1159.9|\n",
      "|PENDING_PAYMENT|        4|       25.6|\n",
      "|       COMPLETE|        6|     1211.1|\n",
      "|         CLOSED|        8|      882.7|\n",
      "|       COMPLETE|       10|     1131.8|\n",
      "+---------------+---------+-----------+\n",
      "only showing top 5 rows\n",
      "\n"
     ]
    }
   ],
   "source": [
    "output6.show(5)"
   ]
  },
  {
   "cell_type": "code",
   "execution_count": 51,
   "metadata": {},
   "outputs": [],
   "source": [
    "output7 = df1.selectExpr('status', \"order_id * 2 as new_order\", \"cust_id/10 as divide_cust\")"
   ]
  },
  {
   "cell_type": "code",
   "execution_count": 52,
   "metadata": {},
   "outputs": [
    {
     "name": "stdout",
     "output_type": "stream",
     "text": [
      "+---------------+---------+-----------+\n",
      "|         status|new_order|divide_cust|\n",
      "+---------------+---------+-----------+\n",
      "|         CLOSED|        2|     1159.9|\n",
      "|PENDING_PAYMENT|        4|       25.6|\n",
      "|       COMPLETE|        6|     1211.1|\n",
      "|         CLOSED|        8|      882.7|\n",
      "|       COMPLETE|       10|     1131.8|\n",
      "+---------------+---------+-----------+\n",
      "only showing top 5 rows\n",
      "\n"
     ]
    }
   ],
   "source": [
    "output7.show(5)"
   ]
  }
 ],
 "metadata": {
  "kernelspec": {
   "display_name": ".venv",
   "language": "python",
   "name": "python3"
  },
  "language_info": {
   "codemirror_mode": {
    "name": "ipython",
    "version": 3
   },
   "file_extension": ".py",
   "mimetype": "text/x-python",
   "name": "python",
   "nbconvert_exporter": "python",
   "pygments_lexer": "ipython3",
   "version": "3.11.4"
  }
 },
 "nbformat": 4,
 "nbformat_minor": 2
}
