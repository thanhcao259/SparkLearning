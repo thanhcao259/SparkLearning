{
 "cells": [
  {
   "cell_type": "markdown",
   "metadata": {},
   "source": [
    "Filter operations:\n",
    "- Using pySpark.sql.Datarame.filter()\n",
    "- Using pySpark.sql.select/where combine with .sql.functions"
   ]
  },
  {
   "cell_type": "code",
   "execution_count": 1,
   "metadata": {},
   "outputs": [],
   "source": [
    "from pyspark.sql import SparkSession"
   ]
  },
  {
   "cell_type": "code",
   "execution_count": 2,
   "metadata": {},
   "outputs": [],
   "source": [
    "spark= SparkSession.builder.appName(\"Tutorial4 Filter\").getOrCreate()"
   ]
  },
  {
   "cell_type": "code",
   "execution_count": 3,
   "metadata": {},
   "outputs": [],
   "source": [
    "demo_df = spark.read.csv('data/test1.csv', header=True, inferSchema=True)"
   ]
  },
  {
   "cell_type": "code",
   "execution_count": 5,
   "metadata": {},
   "outputs": [
    {
     "name": "stdout",
     "output_type": "stream",
     "text": [
      "+---------+---+----------+------+\n",
      "|     Name|Age|Experience|Salary|\n",
      "+---------+---+----------+------+\n",
      "|    Krish| 31|        10| 30000|\n",
      "|Sudhanshu| 30|         8| 25000|\n",
      "|    Sunny| 29|         4| 20000|\n",
      "|     Paul| 24|         3| 20000|\n",
      "|   Harsha| 21|         1| 15000|\n",
      "|  Shubham| 23|         2| 18000|\n",
      "+---------+---+----------+------+\n",
      "\n"
     ]
    }
   ],
   "source": [
    "demo_df.show()"
   ]
  },
  {
   "cell_type": "code",
   "execution_count": null,
   "metadata": {},
   "outputs": [],
   "source": [
    "# demo_df.filter(\"Age < 31\").show()\n",
    "demo_df.filter(demo_df.Age <31).show()"
   ]
  },
  {
   "cell_type": "code",
   "execution_count": 7,
   "metadata": {},
   "outputs": [
    {
     "name": "stdout",
     "output_type": "stream",
     "text": [
      "+---------+---+----------+------+\n",
      "|     Name|Age|Experience|Salary|\n",
      "+---------+---+----------+------+\n",
      "|Sudhanshu| 30|         8| 25000|\n",
      "|    Sunny| 29|         4| 20000|\n",
      "|     Paul| 24|         3| 20000|\n",
      "|   Harsha| 21|         1| 15000|\n",
      "|  Shubham| 23|         2| 18000|\n",
      "+---------+---+----------+------+\n",
      "\n"
     ]
    }
   ],
   "source": [
    "demo_df.where('Age<31').show()"
   ]
  },
  {
   "cell_type": "code",
   "execution_count": 8,
   "metadata": {},
   "outputs": [],
   "source": [
    "# from pyspark.sql import functions as fncs\n",
    "import pyspark.sql.functions as fncs"
   ]
  },
  {
   "cell_type": "code",
   "execution_count": 9,
   "metadata": {},
   "outputs": [],
   "source": [
    "# Insert new col 'Level' that returns 'Fresher' if the Age <2,\n",
    "# or rerturns 'Junior' if the Age in [2, 5)\n",
    "# otherwise, returns 'Senior'\n",
    "filter_df = demo_df.withColumn(\n",
    "    'Level',\n",
    "    fncs.when(fncs.col('Experience')<2 ,'Fresher')\n",
    "    .when( (fncs.col('Experience')>=2) & (fncs.col('Experience')<5), 'Junior')\n",
    "    .otherwise('Senior')\n",
    ")"
   ]
  },
  {
   "cell_type": "code",
   "execution_count": 10,
   "metadata": {},
   "outputs": [
    {
     "name": "stdout",
     "output_type": "stream",
     "text": [
      "+---------+---+----------+------+-------+\n",
      "|     Name|Age|Experience|Salary|  Level|\n",
      "+---------+---+----------+------+-------+\n",
      "|    Krish| 31|        10| 30000| Senior|\n",
      "|Sudhanshu| 30|         8| 25000| Senior|\n",
      "|    Sunny| 29|         4| 20000| Junior|\n",
      "|     Paul| 24|         3| 20000| Junior|\n",
      "|   Harsha| 21|         1| 15000|Fresher|\n",
      "|  Shubham| 23|         2| 18000| Junior|\n",
      "+---------+---+----------+------+-------+\n",
      "\n"
     ]
    }
   ],
   "source": [
    "filter_df.show()"
   ]
  },
  {
   "cell_type": "code",
   "execution_count": 11,
   "metadata": {},
   "outputs": [
    {
     "name": "stdout",
     "output_type": "stream",
     "text": [
      "+-------+---+----------+------+\n",
      "|   Name|Age|Experience|Salary|\n",
      "+-------+---+----------+------+\n",
      "|  Sunny| 29|         4| 20000|\n",
      "|   Paul| 24|         3| 20000|\n",
      "|Shubham| 23|         2| 18000|\n",
      "+-------+---+----------+------+\n",
      "\n"
     ]
    }
   ],
   "source": [
    "demo_df.filter((demo_df['Salary'] > 15000) &\n",
    "               (demo_df.Salary < 25000)).show()"
   ]
  },
  {
   "cell_type": "code",
   "execution_count": 16,
   "metadata": {},
   "outputs": [
    {
     "name": "stdout",
     "output_type": "stream",
     "text": [
      "+---------+---+----------+------+------+\n",
      "|     Name|Age|Experience|Salary| Level|\n",
      "+---------+---+----------+------+------+\n",
      "|    Krish| 31|        10| 30000|Senior|\n",
      "|Sudhanshu| 30|         8| 25000|Senior|\n",
      "|    Sunny| 29|         4| 20000|Junior|\n",
      "+---------+---+----------+------+------+\n",
      "\n"
     ]
    }
   ],
   "source": [
    "# filter_df.where(fncs.col('Level').isin(['Senior'])).show()\n",
    "filter_df.where((fncs.col('Level') == 'Senior') |\n",
    "                (fncs.col('Age') > 25)).show()"
   ]
  }
 ],
 "metadata": {
  "kernelspec": {
   "display_name": ".venv",
   "language": "python",
   "name": "python3"
  },
  "language_info": {
   "codemirror_mode": {
    "name": "ipython",
    "version": 3
   },
   "file_extension": ".py",
   "mimetype": "text/x-python",
   "name": "python",
   "nbconvert_exporter": "python",
   "pygments_lexer": "ipython3",
   "version": "3.11.4"
  }
 },
 "nbformat": 4,
 "nbformat_minor": 2
}
